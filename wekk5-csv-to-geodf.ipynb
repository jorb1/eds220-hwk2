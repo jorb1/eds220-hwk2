{
 "cells": [
  {
   "cell_type": "markdown",
   "id": "a63d8927-bd8f-457c-87d6-70dd8792cb7c",
   "metadata": {},
   "source": [
    "## CSV to `GeodataFrame`\n",
    "\n",
    "Let’s start by importing packages and updating viewing options:"
   ]
  },
  {
   "cell_type": "code",
   "execution_count": null,
   "id": "5812ab66-b37f-41e8-80fb-2892428a72a8",
   "metadata": {},
   "outputs": [],
   "source": [
    "import os\n",
    "import pandas as pd\n"
   ]
  }
 ],
 "metadata": {
  "kernelspec": {
   "display_name": "Anaconda 3 (Base)",
   "language": "python",
   "name": "base"
  },
  "language_info": {
   "codemirror_mode": {
    "name": "ipython",
    "version": 3
   },
   "file_extension": ".py",
   "mimetype": "text/x-python",
   "name": "python",
   "nbconvert_exporter": "python",
   "pygments_lexer": "ipython3",
   "version": "3.9.13"
  }
 },
 "nbformat": 4,
 "nbformat_minor": 5
}
